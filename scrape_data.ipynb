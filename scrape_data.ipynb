{
 "cells": [
  {
   "cell_type": "code",
   "execution_count": 23,
   "metadata": {},
   "outputs": [],
   "source": [
    "import time\n",
    "import os\n",
    "import re\n",
    "from bs4 import BeautifulSoup\n",
    "from selenium import webdriver\n",
    "from webdriver_manager.chrome import ChromeDriverManager\n",
    "from selenium.webdriver.chrome.service import Service\n",
    "from selenium.webdriver.chrome.options import Options\n",
    "from tqdm import tqdm\n",
    "import pandas as pd\n",
    "import requests\n",
    "\n",
    "\n",
    "# Driver creation\n",
    "chrome_options = Options() # Initializing am options object \n",
    "\n",
    "chrome_options.add_argument(\"--no-sandbox\")\n",
    "# Silent download of drivers\n",
    "os.environ['WDM_LOG'] = 'False'\n",
    "\n",
    "# Create service\n",
    "webdriver_service = Service(ChromeDriverManager().install())\n",
    "driver = webdriver.Chrome(service = webdriver_service, options = chrome_options)"
   ]
  },
  {
   "cell_type": "code",
   "execution_count": 24,
   "metadata": {},
   "outputs": [],
   "source": [
    "caps = []\n",
    "likes = []"
   ]
  },
  {
   "cell_type": "code",
   "execution_count": null,
   "metadata": {},
   "outputs": [],
   "source": [
    "list_of_users = [\n",
    "                 \n",
    "                 \"abstractpainters\", \"sirjoancornella\", \"kaws\", \"banksy \", \"takashipom\" ,\"abstractsunday\",\"obeygiant\",\"mrbrainwash\",\"wannerstedt\", \"bosslogic\", \"dface_official\", \"pichiavo\",\"okudart\",\"beeple_crap\",\"whos__who\",\"carolynj\",\"polly.staple\",\"liesechavez\",\"teaaalexis\",\"artxman\",   #art\n",
    "                 \"unlimitedsunset\",\"sunset\",\"sunrise_and_sunsets\",\"girlchill_sunset\",\"world_beautiful_sunsets\" , \"lastnightssunset\" , \"heresunsetonly\" , \"sunset_chasers\",\"sunset_hunters\", \"dailysunsets\",\"sunset_madness\",\"sunset_captures\",\"sunset_fever\", \"sunset_hunterz\",\"sunset_worshippers\",\"sunset_fanatic\",\"sunset_explorers\",\"sunset_illusions\",\"goldenhourmag\",\"sunsetaddiction\",   #sunset\n",
    "                \n",
    "                 \"theweddingbliss\",\"brides\",\"putnamflowers\",\"oncewed\",\"alanajonesmann\",\"bydamistudiosnyc\",\"ellamah\",\"rileyandgrey\",\"david_stark_design\",\"aislesociety\",\"apracticalwedding\",\"caratsandcake\",\"amsale\",\"brooklynbloomsnyc\" ,\"thevenuereport\",\"elizabethaustinphoto\",\"photosbyreem\",\"joyproctor\",\"niravphotography\",\"jordanvoth\",     #weddings\n",
    "                 \"Gypsea_Lust\",\"Loki the Wolfdog\",\"TaraMilkTea\",\"DoYouTravel\",\"Spiritedpursuit\",\"Calsnape\", \"TravellingThroughTheWorld\",\"NoBackHome\",\"FunForLouis\",\"Aniab\",\"Benjaminortega\",\"Grainedevoyageuse\", \"Muradosmann\",\"ChrisBurkard\",\"Izkiz\",\"Tuulavintage\",\"TheBucketListFamily\",\"Mialvess\", \"JamesRelfdyer\",\"Emitoms\",    #family_trip\n",
    "                 #\"viatravelers\",\"alexpreview\",\"jeremyaustiin\",\"lucylaucht\",\"travelsofali\",\"muradosmann\", \"ovunno\",\"theblondeabroad\",\"bucketlistjourney\",\"migrationology\",\"jackharries\",\"travelbabbo\", \"darlingescapes\",\"theplanetd\",\"ottsworld\",\"practicalwanderlust\",\"Landlopers\",     #friends_trip\n",
    "                 \n",
    "                # \"ebenezersamuel23\",\"emilyskyefit\",\"fitness4backpain\",\"fitnessquotes.daily\",\"kanoagreene\",\"hypertrophycoach\", \"physiquedevelopment\",\"themusclementors\",\"paulinenordin\",\"womenshealthmag\",\"thebodycoach\",\"chrisbumstead\", \"dianaconforto_\",\"broscielife\",\"analisetcruz\",\"sascha_fitness\",\"natacha.oceane\",\"davidsdiley\",    #fitness_and_health\n",
    "                 #\"earthpix\",\"scenic.views\",\"ourplanetdaily\",\"landscape_lovers\",\"wanderlust\",\"scenery_love\", \"natureaddict\",\"outdooradventures\",\"travelandleisure\",\"natgeotravel\",\"scenicphotography\",\"landscapephotography\", \"ouradventures\",\"scenicviewsdaily\",\"wanderlove\",\"naturelovers\",\"outdoorfun\",\"travelphotography\", \"scenicwonders\",\"landscape_loverz\",    #Scenery\n",
    "                #\"podcastersupport\",\"meetingprofs\",\"eventprofslive\",\"podcastlife\",\"meetingplannersintl\", \"conferencecompass\",\"podcastaddict\",\"meetingsmeanbusiness\",\"podcastersunite\",\"eventsprof \",\"podcastcommunity\", \"meetingplannermag\",\"conferencecrush\",\"podcastlove\",\"meetingminds\",\"podcastersofinstagram\",\"eventsandtravels\", \"podcastyourstory\",\"meetingsandmore\",   #meetings_podcast\n",
    "                 ]"
   ]
  },
  {
   "cell_type": "code",
   "execution_count": 26,
   "metadata": {},
   "outputs": [
    {
     "name": "stdout",
     "output_type": "stream",
     "text": [
      "Login successful!\n"
     ]
    },
    {
     "ename": "KeyboardInterrupt",
     "evalue": "",
     "output_type": "error",
     "traceback": [
      "\u001b[1;31m---------------------------------------------------------------------------\u001b[0m",
      "\u001b[1;31mKeyboardInterrupt\u001b[0m                         Traceback (most recent call last)",
      "Cell \u001b[1;32mIn[26], line 43\u001b[0m\n\u001b[0;32m     41\u001b[0m time\u001b[38;5;241m.\u001b[39msleep(\u001b[38;5;241m2\u001b[39m)\n\u001b[0;32m     42\u001b[0m pyautogui\u001b[38;5;241m.\u001b[39mpress(\u001b[38;5;124m'\u001b[39m\u001b[38;5;124menter\u001b[39m\u001b[38;5;124m'\u001b[39m)  \u001b[38;5;66;03m# Press Enter to perform the search\u001b[39;00m\n\u001b[1;32m---> 43\u001b[0m time\u001b[38;5;241m.\u001b[39msleep(\u001b[38;5;241m5\u001b[39m)\n\u001b[0;32m     44\u001b[0m pyautogui\u001b[38;5;241m.\u001b[39mpress(\u001b[38;5;124m\"\u001b[39m\u001b[38;5;124mdown\u001b[39m\u001b[38;5;124m\"\u001b[39m)\n\u001b[0;32m     45\u001b[0m \u001b[38;5;66;03m# Wait for search results to load\u001b[39;00m\n",
      "\u001b[1;31mKeyboardInterrupt\u001b[0m: "
     ]
    }
   ],
   "source": [
    "from selenium import webdriver\n",
    "from selenium.webdriver.common.keys import Keys\n",
    "import time\n",
    "\n",
    "\n",
    "\n",
    "\n",
    "# Open Instagram login page\n",
    "driver.get(\"https://www.instagram.com/accounts/login/\")\n",
    "\n",
    "# Wait for the page to load\n",
    "time.sleep(2)\n",
    "\n",
    "# Find username and password fields and enter your credentials\n",
    "username_field = driver.find_element(\"name\", \"username\")\n",
    "password_field = driver.find_element(\"name\", \"password\")\n",
    "\n",
    "username_field.send_keys(\"harshilbhargava_08\")\n",
    "password_field.send_keys(\"Harshil@08\")\n",
    "\n",
    "# Submit the form\n",
    "password_field.send_keys(Keys.RETURN)\n",
    "\n",
    "# Wait for the login process to complete\n",
    "time.sleep(5)\n",
    "\n",
    "# Check if login is successful\n",
    "if \"accounts/login\" not in driver.current_url:\n",
    "    print(\"Login successful!\")\n",
    "else:\n",
    "    print(\"Login failed.\")\n",
    "\n",
    "import pyautogui\n",
    "\n",
    "for j in list_of_users:\n",
    "    time.sleep(2)\n",
    "    pyautogui.click(x=30, y=330)  # Adjust the coordinates according to your screen resolution\n",
    "\n",
    "    # Type the username to search for\n",
    "    pyautogui.typewrite(j)\n",
    "    time.sleep(2)\n",
    "    pyautogui.press('enter')  # Press Enter to perform the search\n",
    "    time.sleep(5)\n",
    "    pyautogui.press(\"down\")\n",
    "    # Wait for search results to load\n",
    "    time.sleep(2)\n",
    "    pyautogui.press(\"enter\")\n",
    "    time.sleep(2)\n",
    "\n",
    "    page_source = driver.page_source\n",
    "                # Parse 1-page\n",
    "    soup = BeautifulSoup(page_source, 'lxml')\n",
    "\n",
    "\n",
    "    page_source = driver.page_source\n",
    "    soup = BeautifulSoup(page_source, 'lxml')\n",
    "    d = soup.find_all('div',class_=\"x1lliihq x1n2onr6 xh8yej3 x4gyw5p x2pgyrj xbkimgs xfllauq xh8taat xo2y696\")\n",
    "\n",
    "    for j in d:\n",
    "        li = j.find('a')\n",
    "        p = li.get('href')\n",
    "        \n",
    "        if 'p' in p:\n",
    "            x = \"https://instagram.com\" + p \n",
    "            page_source = driver.page_source\n",
    "            driver.get(x)\n",
    "            soup = BeautifulSoup(page_source, 'lxml')\n",
    "            likes_count = soup.find('span',class_=\"html-span xdj266r x11i5rnm xat24cr x1mh8g0r xexx8yu x4uap5 x18d9i69 xkhd6sd x1hl2dhg x16tdsg8 x1vvkbs\")\n",
    "            \n",
    "            x = soup.find('span',class_='x193iq5w xeuugli x1fj9vlw x13faqbe x1vvkbs xt0psk2 x1i0vuye xvs91rp xo1l8bm x5n08af x10wh9bi x1wdrske x8viiok x18hxmgj')\n",
    "            def remove_html_tags(text):\n",
    "                # Remove HTML tags\n",
    "                clean_text = re.sub(r'<.*?>', '', text)\n",
    "                return clean_text\n",
    "            if likes_count:\n",
    "                likes.append(likes_count.text)\n",
    "                caps.append(remove_html_tags(str(x)))\n",
    "        \n",
    "        \n"
   ]
  },
  {
   "cell_type": "code",
   "execution_count": null,
   "metadata": {},
   "outputs": [],
   "source": [
    "#Jab saare accounts se scrape ho jaaye tab yeh code chalana\n",
    "data = pd.DataFrame()\n",
    "data['captions'] = caps[1:]\n",
    "data['likes']=likes[1:]\n",
    "data.to_csv('train_trialw.csv')#Yeh file jis folder mei code file hogi vaha save hogi."
   ]
  }
 ],
 "metadata": {
  "kernelspec": {
   "display_name": "Python 3",
   "language": "python",
   "name": "python3"
  },
  "language_info": {
   "codemirror_mode": {
    "name": "ipython",
    "version": 3
   },
   "file_extension": ".py",
   "mimetype": "text/x-python",
   "name": "python",
   "nbconvert_exporter": "python",
   "pygments_lexer": "ipython3",
   "version": "3.11.4"
  }
 },
 "nbformat": 4,
 "nbformat_minor": 2
}
